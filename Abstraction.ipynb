{
 "cells": [
  {
   "cell_type": "markdown",
   "metadata": {},
   "source": [
    "# Abstraction\n",
    "\n",
    "## Abstraction in programming is the concept of hiding unnecessary details and showing only the essential features of an object or process. It helps simplify complex systems by focusing on what an object does, rather than how it does it.\n",
    "\n",
    "\n",
    "# Key Features of Abstraction:\n",
    "## 1. Hides Complexity: It allows you to hide complex logic and provide a simple interface to users.\n",
    "## 2. Simplifies Code Maintenance: By separating the details and the interface, it becomes easier to manage and modify the code.\n",
    "## 3. Provides Flexibility: Users of a class don’t need to know the detailed implementation but can still use the features provided."
   ]
  },
  {
   "cell_type": "markdown",
   "metadata": {},
   "source": []
  },
  {
   "cell_type": "markdown",
   "metadata": {},
   "source": [
    "\n",
    "# Simplified Example of Abstraction:\n",
    "\n"
   ]
  },
  {
   "cell_type": "code",
   "execution_count": 3,
   "metadata": {},
   "outputs": [
    {
     "name": "stdout",
     "output_type": "stream",
     "text": [
      "Processing credit card payment of $100\n",
      "\n",
      "Processing PayPal payment of $150\n"
     ]
    }
   ],
   "source": [
    "class Payment:\n",
    "    # General method to be implemented by subclasses\n",
    "    def process_payment(self, amount):\n",
    "        raise NotImplementedError(\"This method should be overridden by subclasses\")\n",
    "\n",
    "class CreditCardPayment(Payment):\n",
    "    # Implementation of the process for credit card payments\n",
    "    def process_payment(self, amount):\n",
    "        print(f\"Processing credit card payment of ${amount}\")\n",
    "\n",
    "class PayPalPayment(Payment):\n",
    "    # Implementation of the process for PayPal payments\n",
    "    def process_payment(self, amount):\n",
    "        print(f\"\\nProcessing PayPal payment of ${amount}\")\n",
    "\n",
    "# Now you can use these payment methods without worrying about the details.\n",
    "payment1 = CreditCardPayment()\n",
    "payment1.process_payment(100)  # Outputs: Processing credit card payment of $100\n",
    "\n",
    "payment2 = PayPalPayment()\n",
    "payment2.process_payment(150)  # Outputs: Processing PayPal payment of $150\n"
   ]
  },
  {
   "cell_type": "markdown",
   "metadata": {},
   "source": [
    "# Another Example"
   ]
  },
  {
   "cell_type": "code",
   "execution_count": 17,
   "metadata": {},
   "outputs": [
    {
     "name": "stdout",
     "output_type": "stream",
     "text": [
      "Using Abstraction\n",
      "\n",
      "Car Make: Toyota\n",
      "Car Model: Crown\n",
      "Car Year: 2023\n"
     ]
    }
   ],
   "source": [
    "print(\"Using Abstraction\\n\")\n",
    "\n",
    "# Base class\n",
    "class Car():\n",
    "    def __init__(self, make, model, year):\n",
    "        # Initialize the attributes of the Car class\n",
    "        self.make = make   # The manufacturer of the car (e.g., Toyota)\n",
    "        self.model = model # The specific model of the car (e.g., Crown)\n",
    "        self.year = year   # The year the car was manufactured (e.g., 2023)\n",
    "\n",
    "\n",
    "\n",
    "    def detail_info(self): # This method prints the details of the car\n",
    "        # Print the car's make, model, and year\n",
    "        print(f\"Car Make: {self.make}\")\n",
    "        print(f\"Car Model: {self.model}\")\n",
    "        print(f\"Car Year: {self.year}\")\n",
    "\n",
    "\n",
    "\n",
    "# Example of creating a Car object and displaying its details\n",
    "car1 = Car(\"Toyota\", \"Crown\", 2023) # Create an instance of Car with specified attributes\n",
    "car1.detail_info()  # Call the detail_info method to display the car's details\n"
   ]
  },
  {
   "cell_type": "markdown",
   "metadata": {},
   "source": [
    "## Explanation:\n",
    "## Class and Object:\n",
    "\n",
    "## We created a Car class with attributes like make, model, and year.\n",
    "## The Car class has a method called detail_info() that shows the car's essential information.\n",
    "## Abstraction in Action:\n",
    "\n",
    "## When we create an object car1 = Car(\"Toyota\", \"Crown\", 2023), we don't need to know the internal workings of the Car class.\n",
    "\n",
    "## The detail_info() method provides us with what we need: the car's make, model, and year. It hides unnecessary details and focuses on essential features.\n",
    "\n",
    "## Real-World Example:\n",
    "\n",
    "## Think of a car itself — you don’t need to understand the mechanics of the engine to drive it. You only need the steering wheel, pedals, and essential controls — that’s abstraction!"
   ]
  },
  {
   "cell_type": "markdown",
   "metadata": {},
   "source": []
  },
  {
   "cell_type": "markdown",
   "metadata": {},
   "source": []
  },
  {
   "cell_type": "markdown",
   "metadata": {},
   "source": [
    "# Problem 1: Shape Area Calculator\n",
    "## Objective: Create an abstract class to represent different shapes and calculate their area.\n",
    "\n",
    "## Instructions:\n",
    "## Define an Abstract Class:\n",
    "\n",
    "## Create an abstract class named Shape.\n",
    "## It should have an abstract method area() that will be overridden by subclasses.\n",
    "\n",
    "## Implement Subclasses:\n",
    "## Create a subclass Circle that takes the radius as an argument and implements the area() method using the formula: \n",
    "## Area=π×r^2\n",
    "\n",
    "## Create another subclass Rectangle that takes width and height as arguments and implements the area() method using the formula: \n",
    "## Area =width × height\n",
    "## Area=width×height.\n",
    "## Create Instances:\n",
    "\n",
    "## Instantiate objects of Circle and Rectangle.\n",
    "## Print the area of each shape."
   ]
  },
  {
   "cell_type": "code",
   "execution_count": 18,
   "metadata": {},
   "outputs": [
    {
     "name": "stdout",
     "output_type": "stream",
     "text": [
      "Area of Circle: 78.5\n",
      "\n",
      "Area of Rectangle is: 30\n"
     ]
    }
   ],
   "source": [
    "\n",
    "\n",
    "class Shape():\n",
    "    def area(self):\n",
    "        pass\n",
    "\n",
    "\n",
    "class Circle(Shape):\n",
    "    def __init__(self, radius):\n",
    "        self.radius = radius\n",
    "\n",
    "    def area(self):\n",
    "        return 3.14 *(self.radius ** 2) # Pi = π = 3.14\n",
    "        \n",
    "\n",
    "class Rectangle(Shape):\n",
    "    def __init__(self, width: int, height: int):\n",
    "        self.width = width\n",
    "        self.height = height\n",
    "\n",
    "    def area(self):\n",
    "        return self.width * self.height\n",
    "    \n",
    "\n",
    "cir = Circle(5)\n",
    "print(f\"Area of Circle: {cir.area()}\") # Output: 78.5\n",
    "\n",
    "rect = Rectangle(10,3)\n",
    "print(f\"\\nArea of Rectangle is: {rect.area()}\") # Output: 30"
   ]
  },
  {
   "cell_type": "markdown",
   "metadata": {},
   "source": [
    "## Problem 2: Employee Management System\n",
    "### Objective: Create an abstract class to represent employees and calculate their salaries based on different employment types.\n",
    "\n",
    "## Instructions:\n",
    "\n",
    "## Define an Abstract Class:\n",
    "\n",
    "## Create an abstract class named Employee.\n",
    "## It should have an abstract method calculate_salary().\n",
    "\n",
    "## Implement Subclasses:\n",
    "\n",
    "## Create a subclass FullTimeEmployee that takes a fixed salary as an argument and implements the calculate_salary() method to return the salary.\n",
    "\n",
    "## Create another subclass PartTimeEmployee that takes an hourly wage and the number of hours worked as arguments and implements the calculate_salary() method to return the total salary for the hours worked.\n",
    "\n",
    "## Create Instances:\n",
    "\n",
    "## Instantiate objects of FullTimeEmployee and PartTimeEmployee.\n",
    "## Print the salary for each employee type."
   ]
  },
  {
   "cell_type": "code",
   "execution_count": 16,
   "metadata": {},
   "outputs": [
    {
     "name": "stdout",
     "output_type": "stream",
     "text": [
      "Full-Time-Employee Salary is: 50000\n",
      "\n",
      "Part-Time-Employee Salary is: 6500\n"
     ]
    }
   ],
   "source": [
    "class Employee():\n",
    "    def calculate_salary(self):\n",
    "        pass\n",
    "\n",
    "\n",
    "class FullTimeEmployee(Employee):\n",
    "    def __init__(self, fix_salary: int):\n",
    "        self.fix_salary = fix_salary\n",
    "\n",
    "    \n",
    "    def calculate_salary(self):\n",
    "        return self.fix_salary\n",
    "        \n",
    "        \n",
    "class PartTimeEmployee(Employee):\n",
    "    def __init__(self, hourly_wage: int, hours_worked: int):\n",
    "        self.hourly_wage = hourly_wage\n",
    "        self.hours_worked = hours_worked\n",
    "\n",
    "    def calculate_salary(self):\n",
    "        return self.hours_worked * self.hourly_wage\n",
    "    \n",
    "full_time = FullTimeEmployee(50000)\n",
    "print(f\"Full-Time-Employee Salary is: {full_time.calculate_salary()}\")\n",
    "\n",
    "part_time = PartTimeEmployee(650,10)\n",
    "print(f\"\\nPart-Time-Employee Salary is: {part_time.calculate_salary()}\")\n"
   ]
  },
  {
   "cell_type": "markdown",
   "metadata": {},
   "source": []
  },
  {
   "cell_type": "markdown",
   "metadata": {},
   "source": [
    "# Where is Abstraction Used in Real Life?\n",
    "## 1. ATM Machines: Users interact with a simple interface (withdraw, deposit, check balance), but the internal processes (like validating the card, checking the account balance, etc.) are hidden.\n",
    "\n",
    "## 2. Car Interfaces: When driving a car, the driver interacts with controls (steering wheel, pedals, gear) without worrying about how the engine or transmission works.\n",
    "\n",
    "## 3. Web Applications: In frameworks like Django, you write high-level Python code that interacts with the database without worrying about raw SQL queries or database connection handling."
   ]
  }
 ],
 "metadata": {
  "kernelspec": {
   "display_name": "Python 3",
   "language": "python",
   "name": "python3"
  },
  "language_info": {
   "codemirror_mode": {
    "name": "ipython",
    "version": 3
   },
   "file_extension": ".py",
   "mimetype": "text/x-python",
   "name": "python",
   "nbconvert_exporter": "python",
   "pygments_lexer": "ipython3",
   "version": "3.12.2"
  }
 },
 "nbformat": 4,
 "nbformat_minor": 2
}
