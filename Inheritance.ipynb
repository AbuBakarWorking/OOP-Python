{
 "cells": [
  {
   "cell_type": "markdown",
   "metadata": {},
   "source": [
    "# Inheritance in Python (OOP):\n",
    "\n",
    "## Inheritance allows one class (child or subclass) to inherit properties and behaviors (methods and attributes) from another class (parent or superclass). It promotes code reusability and hierarchical relationships between classes."
   ]
  },
  {
   "cell_type": "markdown",
   "metadata": {},
   "source": [
    "# Key Features:\n",
    "\n",
    "## Code Reusability: Child classes reuse code from parent classes without rewriting it.\n",
    "## Method Overriding: Child classes can modify or override methods of the parent class.\n",
    "## Single and Multiple Inheritance: A class can inherit from one or multiple classes.\n",
    "## DRY Principle: Helps follow the \"Don't Repeat Yourself\" principle, making code efficient and maintainable.\n",
    "## Hierarchical Structure: Organizes classes in a tree-like structure, making relationships clear."
   ]
  },
  {
   "cell_type": "markdown",
   "metadata": {},
   "source": []
  },
  {
   "cell_type": "markdown",
   "metadata": {},
   "source": [
    "# Real-Life Example in Programming:\n",
    "\n",
    "## In a program, you can have a base class \"Vehicle\" with common features like move() and stop(), and a child class \"Car\" that inherits these features while adding specific functionality like open_sunroof()."
   ]
  },
  {
   "cell_type": "code",
   "execution_count": 3,
   "metadata": {},
   "outputs": [
    {
     "name": "stdout",
     "output_type": "stream",
     "text": [
      "Vehicle is moving\n",
      "Opening sunroof\n"
     ]
    }
   ],
   "source": [
    "class Vehicle: # Parent Class or Base Class \n",
    "    def move(self):\n",
    "        print(\"Vehicle is moving\")\n",
    "\n",
    "class Car(Vehicle): # Sub_Class or Child_Class\n",
    "    def open_sunroof(self):\n",
    "        print(\"Opening sunroof\")\n",
    "\n",
    "# Usage\n",
    "my_car = Car()\n",
    "my_car.move()  # Inherited from Vehicle\n",
    "my_car.open_sunroof()  # Specific to Car\n"
   ]
  },
  {
   "cell_type": "markdown",
   "metadata": {},
   "source": []
  },
  {
   "cell_type": "markdown",
   "metadata": {},
   "source": [
    "# Single Level Inheritance\n",
    "\n",
    "## Single-level inheritance is when a child class inherits from a single parent class. The child class can use the attributes and methods of the parent class. This allows code reuse and extends the functionality of the parent class.\n"
   ]
  },
  {
   "cell_type": "code",
   "execution_count": 12,
   "metadata": {},
   "outputs": [
    {
     "name": "stdout",
     "output_type": "stream",
     "text": [
      "\n",
      "Name of car: Hyundai\n",
      "\n",
      "Model of car: Sonata\n",
      "\n",
      "Year of car: 2024\n",
      "\n",
      "Color of car: Black\n",
      "\n",
      "Car started\n",
      "Car stopped\n"
     ]
    }
   ],
   "source": [
    "# Base/Parent class Car\n",
    "class Car():\n",
    "\n",
    "    # Class attribute common to all Car instances\n",
    "    color = \"Black\"\n",
    "\n",
    "    @staticmethod\n",
    "    def start():\n",
    "        # Static method to start the car (can be called without creating an instance)\n",
    "        print(\"\\nCar started\")\n",
    "\n",
    "    @staticmethod\n",
    "    def stop():\n",
    "        # Static method to stop the car (can be called without creating an instance)\n",
    "        print(\"Car stopped\")\n",
    "\n",
    "\n",
    "# Child class Hyundai_Car inheriting from Car (Single Level Inheritance)\n",
    "class Hyundai_Car(Car):\n",
    "    def __init__(self, name, model, year):  # Constructor that initializes name, model, and year for each car                                   \n",
    "        self.name = name   # Instance variable for car's name\n",
    "        self.model = model  # Instance variable for car's model\n",
    "        self.year = year  # Instance variable for car's manufacturing year\n",
    "\n",
    "\n",
    "# Creating an object of the Hyundai_Car class\n",
    "car1 = Hyundai_Car(\"Hyundai\", \"Sonata\", \"2024\")\n",
    "\n",
    "# Accessing attributes of the car object\n",
    "print(f\"\\nName of car: {car1.name}\")   \n",
    "print(f\"\\nModel of car: {car1.model}\")  \n",
    "print(f\"\\nYear of car: {car1.year}\")   \n",
    "\n",
    "# Accessing inherited class attribute from the parent class Car\n",
    "print(f\"\\nColor of car: {Car.color}\")  \n",
    "\n",
    "# Calling the start method from the Car class (inherited by Hyundai_Car)\n",
    "car1.start() \n",
    "\n",
    "# Calling the stop method from the Car class (inherited by Hyundai_Car)\n",
    "car1.stop()  "
   ]
  },
  {
   "cell_type": "markdown",
   "metadata": {},
   "source": [
    "# Key Points:\n",
    "\n",
    "## Base Class Car: This class is the parent that contains common properties like color and methods like start() and stop() that can be used by other classes.\n",
    "\n",
    "## Child Class Hyundai_Car: This class inherits from the Car class, meaning it gets access to all the methods and attributes of Car, like start(), stop(), and color.\n",
    "\n",
    "## Instance Variables: The Hyundai_Car class has its own instance variables, name, model, and year, which are specific to each Hyundai_Car object.\n",
    "\n",
    "##  Methods: The methods start() and stop() belong to the Car class but can be used by instances of Hyundai_Car due to inheritance.\n",
    "\n",
    "## Single-Level Inheritance: In this example, Hyundai_Car is directly inheriting from the Car class, demonstrating single-level inheritance.\n",
    "\n",
    "## This illustrates the basic concept of inheritance, where the child class (Hyundai_Car) inherits from a single parent class (Car), gaining access to the parent's properties and methods."
   ]
  },
  {
   "cell_type": "markdown",
   "metadata": {},
   "source": []
  },
  {
   "cell_type": "markdown",
   "metadata": {},
   "source": [
    "# Multiple Level Inheritance\n",
    "\n",
    "## In multiple level inheritance, a child class inherits the properties of a parent class and also inherits the properties of another parent class. This is also known as hierarchical inheritance.\n",
    "\n",
    "\n"
   ]
  },
  {
   "cell_type": "code",
   "execution_count": 1,
   "metadata": {},
   "outputs": [
    {
     "name": "stdout",
     "output_type": "stream",
     "text": [
      "\n",
      "Name of car: Hyundai\n",
      "\n",
      "Model of car: Sonata\n",
      "\n",
      "Year of car: 2024\n",
      "\n",
      "Color of car: Black\n",
      "\n",
      "Type of car is Petrol\n",
      "\n",
      "Car started\n",
      "Car stopped\n"
     ]
    }
   ],
   "source": [
    "class Car():\n",
    "\n",
    "    # Class attribute (common for all instances)\n",
    "    color = \"Black\"\n",
    "\n",
    "\n",
    "    @staticmethod\n",
    "    def start():\n",
    "        # Static method to start the car\n",
    "        print(\"\\nCar started\")\n",
    "\n",
    "\n",
    "    @staticmethod\n",
    "    def stop():\n",
    "        # Static method to stop the car\n",
    "        print(\"Car stopped\")\n",
    "\n",
    "    \n",
    "class Hyundai_Car(Car):\n",
    "    # Constructor method for Hyundai_Car, initializing name, model, and year\n",
    "    def __init__(self, name, model, year):\n",
    "        self.name = name  \n",
    "        self.model = model  \n",
    "        self.year = year  \n",
    "\n",
    "\n",
    "class fuel(Hyundai_Car):\n",
    "    # Constructor method for fuel class, extending Hyundai_Car class\n",
    "    def __init__(self, name, model, year, fuel_type):\n",
    "        # Call the constructor of the Hyundai_Car class to set name, model, and year\n",
    "        super().__init__(name, model, year)\n",
    "        self.fuel_type = fuel_type  \n",
    "\n",
    "\n",
    "# Create an instance of the fuel class\n",
    "car1 = fuel(\"Hyundai\", \"Sonata\", \"2024\", \"Petrol\")\n",
    "\n",
    "\n",
    "# Print details about the car\n",
    "print(f\"\\nName of car: {car1.name}\")  \n",
    "print(f\"\\nModel of car: {car1.model}\")  \n",
    "print(f\"\\nYear of car: {car1.year}\")  \n",
    "print(f\"\\nColor of car: {Car.color}\")  \n",
    "print(f\"\\nType of car is {car1.fuel_type}\")  \n",
    "\n",
    "\n",
    "# Start and stop the car using methods inherited from Car class\n",
    "car1.start()  \n",
    "car1.stop()  \n"
   ]
  },
  {
   "cell_type": "markdown",
   "metadata": {},
   "source": []
  },
  {
   "cell_type": "markdown",
   "metadata": {},
   "source": [
    "# Multiple Inheritance:\n",
    "## Multiple inheritance allows a child class to inherit from more than one parent class, combining their features. The child class gains access to all the attributes and methods of the parent classes. This promotes code reuse but can create complexity if there are naming conflicts. Python uses a method resolution order (MRO) to handle such situations."
   ]
  },
  {
   "cell_type": "code",
   "execution_count": null,
   "metadata": {},
   "outputs": [],
   "source": [
    "class Car():"
   ]
  }
 ],
 "metadata": {
  "kernelspec": {
   "display_name": "Python 3",
   "language": "python",
   "name": "python3"
  },
  "language_info": {
   "codemirror_mode": {
    "name": "ipython",
    "version": 3
   },
   "file_extension": ".py",
   "mimetype": "text/x-python",
   "name": "python",
   "nbconvert_exporter": "python",
   "pygments_lexer": "ipython3",
   "version": "3.12.2"
  }
 },
 "nbformat": 4,
 "nbformat_minor": 2
}
