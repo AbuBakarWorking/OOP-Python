{
 "cells": [
  {
   "cell_type": "markdown",
   "metadata": {},
   "source": [
    "# Encapsulation\n",
    "\n",
    "## Encapsulation is a core concept in Object-Oriented Programming (OOP) that means bundling the data (attributes) and the methods (functions) that work on the data into a single unit (a class). It also involves restricting direct access to some of the object's data, which helps protect the data and makes the class easier to use and maintain."
   ]
  },
  {
   "cell_type": "markdown",
   "metadata": {},
   "source": [
    "## In simpler terms:\n",
    "\n",
    "## Encapsulation allows you to hide the internal details of how a class works and only expose what is necessary.\n",
    "\n",
    "## By doing this, you can control how the data is accessed and modified, preventing accidental changes from outside the class."
   ]
  },
  {
   "cell_type": "markdown",
   "metadata": {},
   "source": []
  },
  {
   "cell_type": "markdown",
   "metadata": {},
   "source": [
    "# Key Features of Encapsulation:\n",
    "\n",
    "## Data Hiding: By using private or protected attributes, encapsulation hides the internal state of an object from outside interference. This prevents external functions or objects from directly modifying the data.\n",
    "\n",
    "## Controlled Access: With encapsulation, you can provide getter and setter methods to control how the internal data is accessed or modified. This ensures that changes to the object’s data follow specific rules or validations.\n",
    "\n",
    "## Modularity: It makes the code modular by dividing the program into distinct classes, each handling its own data and behavior.\n",
    "\n",
    "## Security: By restricting direct access to some components, encapsulation enhances security by protecting sensitive data from unwanted changes."
   ]
  },
  {
   "cell_type": "markdown",
   "metadata": {},
   "source": []
  },
  {
   "cell_type": "markdown",
   "metadata": {},
   "source": [
    "# Real-Life Example of Encapsulation:\n",
    "\n",
    "## 1. ATM Machine:\n",
    "## Encapsulation Concept: The user interacts with an ATM machine to withdraw money, check balance, or deposit funds. However, the internal workings, such as verifying the account, checking available balance, and transaction processes, are hidden from the user.\n",
    "\n",
    "## How It Works: The user interface provides controlled access to perform specific actions without exposing sensitive data, ensuring security and reliability.\n",
    "\n",
    "## Key Benefit: Users don't need to know how the internal system works; they only interact with the provided interface, ensuring simplicity and data protection."
   ]
  },
  {
   "cell_type": "markdown",
   "metadata": {},
   "source": []
  },
  {
   "cell_type": "markdown",
   "metadata": {},
   "source": [
    "## Healthcare System (Electronic Health Records):\n",
    "\n",
    "## Encapsulation Concept: In a healthcare system, doctors can access patient records, update treatment plans, and prescribe medications through a secure interface. However, the backend logic that handles record storage, validation, and retrieval is hidden from the end-users (doctors, nurses, etc.).\n",
    "\n",
    "## How It Works: The system encapsulates sensitive patient data and only exposes essential features like viewing or updating records through specific functions. Access to underlying data (like server databases) is restricted to maintain data privacy and security.\n",
    "\n",
    "## Key Benefit: This ensures that sensitive health information is accessed or modified only through authorized actions, maintaining privacy and data integrity."
   ]
  },
  {
   "cell_type": "markdown",
   "metadata": {},
   "source": [
    "## Example Program"
   ]
  },
  {
   "cell_type": "code",
   "execution_count": 2,
   "metadata": {},
   "outputs": [
    {
     "name": "stdout",
     "output_type": "stream",
     "text": [
      "Name: Alice\n",
      "Age: 25\n",
      "Updated Age: 30\n",
      "Age must be positive!\n"
     ]
    }
   ],
   "source": [
    "class Person:\n",
    "    def __init__(self, name, age):\n",
    "        self.name = name        # Public attribute\n",
    "        self.__age = age        # Private attribute (hidden from outside)\n",
    "\n",
    "\n",
    "    # Getter method for age\n",
    "    def get_age(self):\n",
    "        return self.__age\n",
    "\n",
    "\n",
    "    # Setter method for age\n",
    "    def set_age(self, age):\n",
    "        if age > 0:\n",
    "            self.__age = age\n",
    "        else:\n",
    "            print(\"Age must be positive!\")\n",
    "\n",
    "\n",
    "# Create an instance of Person\n",
    "person = Person(\"Alice\", 25)\n",
    "\n",
    "\n",
    "# Access the public attribute directly\n",
    "print(f\"Name: {person.name}\")  # Output: Name: Alice\n",
    "\n",
    "\n",
    "# Using the getter to access the private attribute\n",
    "print(f\"Age: {person.get_age()}\")  # Output: Age: 25\n",
    "\n",
    "\n",
    "# Using the setter to update the private attribute\n",
    "person.set_age(30)\n",
    "print(f\"Updated Age: {person.get_age()}\")  # Output: Updated Age: 30\n",
    "\n",
    "\n",
    "# Attempt to set an invalid age\n",
    "person.set_age(-5)  # Output: Age must be positive!\n"
   ]
  },
  {
   "cell_type": "markdown",
   "metadata": {},
   "source": []
  },
  {
   "cell_type": "markdown",
   "metadata": {},
   "source": []
  },
  {
   "cell_type": "markdown",
   "metadata": {},
   "source": [
    "\n",
    "# Practice Question:\n",
    "\n",
    "## Write a Python program that represents a BankAccount class, where each account has an owner and a private balance. Your task is to:\n",
    "\n",
    "\n",
    "## Create a class called BankAccount with the following features:\n",
    "\n",
    "## A constructor that initializes the account owner and balance.\n",
    "## A getter method get_balance() to return the current balance.\n",
    "## A setter method set_balance() that ensures the balance cannot be negative.\n",
    "## A method deposit() that adds money to the account (only positive amounts are allowed).\n",
    "## A method withdraw() that allows withdrawal, ensuring the amount does not exceed the current balance.\n"
   ]
  },
  {
   "cell_type": "code",
   "execution_count": 3,
   "metadata": {},
   "outputs": [
    {
     "name": "stdout",
     "output_type": "stream",
     "text": [
      "Owner Name: Abubakar\n",
      "Initial Balance: 3000\n",
      "\n",
      "New Balance 2000\n",
      "Deposited 5000. New balance is 7000\n",
      "Withdraw 1000. Remaining Balance is 6000\n",
      "\n",
      "Withdrawal amount must be positive and not exceed current balance\n"
     ]
    }
   ],
   "source": [
    "\n",
    "class BankAccount:\n",
    "    def __init__(self, owner: str, balance: int):\n",
    "        self.owner = owner              # Public attribute\n",
    "        self.__balance = balance        # Private attribute (hidden from outside)\n",
    "\n",
    "    def get_balance(self):\n",
    "        return self.__balance\n",
    "    \n",
    "    def set_balance(self, amount):\n",
    "        if amount > 0:\n",
    "            self.__balance = amount\n",
    "        else:\n",
    "            print(\"Balance cannot be negative\")\n",
    "\n",
    "    \n",
    "    def deposit(self, amount):\n",
    "        if amount > 0:\n",
    "            self.__balance += amount\n",
    "            print(f\"Deposited {amount}. New balance is {self.__balance}\")\n",
    "        else:\n",
    "            print(\"Deposit amount must be positive\")\n",
    "    \n",
    "    def withdraw(self, amount):\n",
    "        if amount > 0 and amount <= self.__balance:\n",
    "            self.__balance -= amount\n",
    "            print(f\"Withdraw {amount}. Remaining Balance is {self.__balance}\")\n",
    "        else:\n",
    "            print(\"\\nWithdrawal amount must be positive and not exceed current balance\")\n",
    "\n",
    "\n",
    "bank = BankAccount(\"Abubakar\", 3000)\n",
    "print(f\"Owner Name: {bank.owner}\")\n",
    "print(f\"Initial Balance: {bank.get_balance()}\")\n",
    "\n",
    "\n",
    "\n",
    "bank.set_balance(2000)\n",
    "print(f\"\\nNew Balance {bank.get_balance()}\")  # Output: 2000\n",
    "\n",
    "bank.deposit(5000)\n",
    "\n",
    "\n",
    "\n",
    "bank.withdraw(1000)\n",
    "\n",
    "\n",
    "bank.withdraw(-500)\n",
    "\n",
    "\n"
   ]
  },
  {
   "cell_type": "markdown",
   "metadata": {},
   "source": []
  },
  {
   "cell_type": "markdown",
   "metadata": {},
   "source": []
  },
  {
   "cell_type": "markdown",
   "metadata": {},
   "source": [
    "# Practice Problem 1: Encapsulated Student Class\n",
    "\n",
    "# Tasks:\n",
    "\n",
    "## Create a Student object and set the grade using the setter method.\n",
    "## Ensure that if the grade is set outside the valid range (0-100), an error message is displayed.\n",
    "## Use the getter method to retrieve and print the student's grade."
   ]
  },
  {
   "cell_type": "code",
   "execution_count": 31,
   "metadata": {},
   "outputs": [
    {
     "name": "stdout",
     "output_type": "stream",
     "text": [
      "Student name: John, Grade is A+\n"
     ]
    }
   ],
   "source": [
    "class Student():\n",
    "    def __init__(self, name, grade):\n",
    "        self.name = name\n",
    "        self.__grade = grade\n",
    "\n",
    "    def get_grade(self):\n",
    "        return self.__grade\n",
    "    \n",
    "    \n",
    "    def set__grade(self, grade):\n",
    "        if 0 <= grade and grade <= 100:\n",
    "            self.__grade = grade\n",
    "            print(f\"Grade update to {self._grade}\")\n",
    "        else:\n",
    "            print(\"Error: Grade must be between 0 and 100.\")\n",
    "\n",
    "\n",
    "student1 = Student(\"John\", \"A+\")\n",
    "print(f\"Student name: {student1.name}, Grade is {student1.get_grade()}\")  # Output: A+\n",
    "\n",
    "\n",
    "\n"
   ]
  }
 ],
 "metadata": {
  "kernelspec": {
   "display_name": "Python 3",
   "language": "python",
   "name": "python3"
  },
  "language_info": {
   "codemirror_mode": {
    "name": "ipython",
    "version": 3
   },
   "file_extension": ".py",
   "mimetype": "text/x-python",
   "name": "python",
   "nbconvert_exporter": "python",
   "pygments_lexer": "ipython3",
   "version": "3.12.2"
  }
 },
 "nbformat": 4,
 "nbformat_minor": 2
}
