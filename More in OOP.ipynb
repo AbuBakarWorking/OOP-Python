{
 "cells": [
  {
   "cell_type": "code",
   "execution_count": 3,
   "metadata": {},
   "outputs": [
    {
     "name": "stdout",
     "output_type": "stream",
     "text": [
      "Name is: Asim\n",
      "Age is: 34\n",
      "\n",
      "Age is: Asim\n"
     ]
    },
    {
     "ename": "AttributeError",
     "evalue": "'student' object has no attribute 'age'",
     "output_type": "error",
     "traceback": [
      "\u001b[1;31m---------------------------------------------------------------------------\u001b[0m",
      "\u001b[1;31mAttributeError\u001b[0m                            Traceback (most recent call last)",
      "Cell \u001b[1;32mIn[3], line 16\u001b[0m\n\u001b[0;32m     14\u001b[0m \u001b[38;5;28;01mdel\u001b[39;00m std\u001b[38;5;241m.\u001b[39mage\n\u001b[0;32m     15\u001b[0m \u001b[38;5;28mprint\u001b[39m(\u001b[38;5;124mf\u001b[39m\u001b[38;5;124m\"\u001b[39m\u001b[38;5;130;01m\\n\u001b[39;00m\u001b[38;5;124mAge is: \u001b[39m\u001b[38;5;132;01m{\u001b[39;00mstd\u001b[38;5;241m.\u001b[39mname\u001b[38;5;132;01m}\u001b[39;00m\u001b[38;5;124m\"\u001b[39m)\n\u001b[1;32m---> 16\u001b[0m \u001b[38;5;28mprint\u001b[39m(\u001b[38;5;124mf\u001b[39m\u001b[38;5;124m\"\u001b[39m\u001b[38;5;124mAge is: \u001b[39m\u001b[38;5;132;01m{\u001b[39;00m\u001b[43mstd\u001b[49m\u001b[38;5;241;43m.\u001b[39;49m\u001b[43mage\u001b[49m\u001b[38;5;132;01m}\u001b[39;00m\u001b[38;5;124m\"\u001b[39m)  \u001b[38;5;66;03m# This will throw an error because age is deleted from the dictionary\u001b[39;00m\n",
      "\u001b[1;31mAttributeError\u001b[0m: 'student' object has no attribute 'age'"
     ]
    }
   ],
   "source": [
    "class student():\n",
    "    def __init__(self, name, age):\n",
    "        self.name = name\n",
    "        self.age = age\n",
    "\n",
    "\n",
    "std = student(\"Asim\", 34)\n",
    "print(f\"Name is: {std.name}\")\n",
    "print(f\"Age is: {std.age}\")\n",
    "\n",
    "\n",
    "\n",
    "# Using Del keyword\n",
    "del std.age\n",
    "print(f\"\\nAge is: {std.name}\")\n",
    "print(f\"Age is: {std.age}\")  # This will throw an error because age is deleted from the dictionary\n",
    "\n",
    "\n",
    "\n",
    "    "
   ]
  },
  {
   "cell_type": "markdown",
   "metadata": {},
   "source": [
    "## It will not gonna show age because age is deleted"
   ]
  },
  {
   "cell_type": "markdown",
   "metadata": {},
   "source": []
  },
  {
   "cell_type": "markdown",
   "metadata": {},
   "source": [
    "## Private Attribute and Methods"
   ]
  },
  {
   "cell_type": "markdown",
   "metadata": {},
   "source": []
  },
  {
   "cell_type": "code",
   "execution_count": 6,
   "metadata": {},
   "outputs": [
    {
     "ename": "AttributeError",
     "evalue": "'Person' object has no attribute '__gretting'",
     "output_type": "error",
     "traceback": [
      "\u001b[1;31m---------------------------------------------------------------------------\u001b[0m",
      "\u001b[1;31mAttributeError\u001b[0m                            Traceback (most recent call last)",
      "Cell \u001b[1;32mIn[6], line 11\u001b[0m\n\u001b[0;32m      7\u001b[0m         \u001b[38;5;28mprint\u001b[39m(\u001b[38;5;28mself\u001b[39m\u001b[38;5;241m.\u001b[39m__name)\n\u001b[0;32m     10\u001b[0m person1 \u001b[38;5;241m=\u001b[39m Person()\n\u001b[1;32m---> 11\u001b[0m \u001b[43mperson1\u001b[49m\u001b[38;5;241;43m.\u001b[39;49m\u001b[43m__gretting\u001b[49m()  \u001b[38;5;66;03m# Hello, my name is Arbaz\u001b[39;00m\n",
      "\u001b[1;31mAttributeError\u001b[0m: 'Person' object has no attribute '__gretting'"
     ]
    }
   ],
   "source": [
    "class Person():\n",
    "    __name = \"Arbaz\"\n",
    "\n",
    "\n",
    "    def __gretting(self):\n",
    "        print(\"Hello, my name is Arbaz\")\n",
    "        print(self.__name)\n",
    "\n",
    "\n",
    "person1 = Person()\n",
    "person1.__gretting()  "
   ]
  },
  {
   "cell_type": "markdown",
   "metadata": {},
   "source": [
    "## Wrong way to Call function"
   ]
  },
  {
   "cell_type": "markdown",
   "metadata": {},
   "source": []
  },
  {
   "cell_type": "markdown",
   "metadata": {},
   "source": [
    "## Correct way to Call function"
   ]
  },
  {
   "cell_type": "code",
   "execution_count": null,
   "metadata": {},
   "outputs": [],
   "source": [
    "class Person():\n",
    "    __name = \"Arbaz\"  # Private attribute\n",
    "\n",
    "    def __greeting(self):  # Private method\n",
    "        print(\"Hello, my name is Arbaz\")\n",
    "        print(self.__name)\n",
    "\n",
    "# Creating an instance of the class\n",
    "person1 = Person()\n",
    "\n",
    "# Accessing the private method using name mangling\n",
    "person1._Person__greeting()  # Correct way to call a private method"
   ]
  },
  {
   "cell_type": "markdown",
   "metadata": {},
   "source": [
    "## Another Way to Access"
   ]
  },
  {
   "cell_type": "code",
   "execution_count": 11,
   "metadata": {},
   "outputs": [
    {
     "name": "stdout",
     "output_type": "stream",
     "text": [
      "Hello, my name is Arbaz\n",
      "\n",
      "Arbaz\n",
      "\n",
      "Welcome to my home\n"
     ]
    }
   ],
   "source": [
    "class Person():\n",
    "    __name = \"\\nArbaz\"  # Private attribute\n",
    "\n",
    "    def __greeting(self):  # Private method\n",
    "        print(\"Hello, my name is Arbaz\")\n",
    "        print(self.__name)\n",
    "\n",
    "    def welcome(self):\n",
    "        self.__greeting()\n",
    "        print(\"\\nWelcome to my home\")\n",
    "\n",
    "person2 = Person()\n",
    "person2.welcome()  # Accessing private method"
   ]
  },
  {
   "cell_type": "markdown",
   "metadata": {},
   "source": [
    "## Private attributes and methods are meant to be used only within the class and are not accessible from outside the class"
   ]
  },
  {
   "cell_type": "markdown",
   "metadata": {},
   "source": []
  },
  {
   "cell_type": "markdown",
   "metadata": {},
   "source": [
    "# Class Method\n",
    "## Ways to change class attribute"
   ]
  },
  {
   "cell_type": "code",
   "execution_count": 5,
   "metadata": {},
   "outputs": [
    {
     "name": "stdout",
     "output_type": "stream",
     "text": [
      "Babar Azam\n",
      "Vinod\n"
     ]
    }
   ],
   "source": [
    "class Person():\n",
    "    name = \"Vinod\"\n",
    "\n",
    "    def change_name(self, name):\n",
    "        self.name = name\n",
    "        \n",
    "\n",
    "p1 = Person()\n",
    "p1.change_name(\"Babar Azam\")\n",
    "print(p1.name)  # Output: Vinod\n",
    "print(Person.name)\n"
   ]
  },
  {
   "cell_type": "markdown",
   "metadata": {},
   "source": []
  },
  {
   "cell_type": "code",
   "execution_count": 6,
   "metadata": {},
   "outputs": [
    {
     "name": "stdout",
     "output_type": "stream",
     "text": [
      "Babar Azam\n",
      "Babar Azam\n"
     ]
    }
   ],
   "source": [
    "class Person():\n",
    "    name = \"Vinod\"\n",
    "\n",
    "    def change_name(self, name):\n",
    "        self.name = name\n",
    "        Person.name = name\n",
    "\n",
    "p1 = Person()\n",
    "p1.change_name(\"Babar Azam\")\n",
    "print(p1.name)  # Output: Vinod\n",
    "print(Person.name)"
   ]
  },
  {
   "cell_type": "markdown",
   "metadata": {},
   "source": [
    "## The purpose of this code is to demonstrate that you can modify both the instance attribute and the class attribute at the same time. This change affects both the specific instance and the class-wide attribute, impacting other instances that may refer to the class attribute."
   ]
  },
  {
   "cell_type": "markdown",
   "metadata": {},
   "source": [
    "## Another Method"
   ]
  },
  {
   "cell_type": "code",
   "execution_count": 11,
   "metadata": {},
   "outputs": [
    {
     "name": "stdout",
     "output_type": "stream",
     "text": [
      "Vinod\n",
      "Vinod\n"
     ]
    }
   ],
   "source": [
    "class Person():\n",
    "    name = \"Vinod\"\n",
    "\n",
    "    def change_name(self, name):\n",
    "        self.name = name\n",
    "        self.__class__.name = \"David\" # can also use class name too\n",
    "        \n",
    "\n",
    "p1 = Person()\n",
    "p1.change_name(\"Babar Azam\")\n",
    "print(p1.name)  # Output: Vinod\n",
    "print(Person.name)"
   ]
  },
  {
   "cell_type": "markdown",
   "metadata": {},
   "source": [
    "# Methods and it's use\n",
    "\n",
    "## Static Methods: Static methods are used when you need functionality related to the class but don’t need access to class or instance attributes. They are defined using the @staticmethod decorator and can be called on both the class and its instances.\n",
    "\n",
    "## Class Methods: Class methods are used when you want to operate on the class itself (such as modifying class-level attributes). They are defined using the @classmethod decorator and take cls as the first parameter to reference the class.\n",
    "\n",
    "## Instance Methods: Instance methods are the most common type of method and are used to operate on specific instances of a class. They take self as the first parameter to access instance-specific data and can read or modify instance attributes."
   ]
  },
  {
   "cell_type": "code",
   "execution_count": 14,
   "metadata": {},
   "outputs": [
    {
     "name": "stdout",
     "output_type": "stream",
     "text": [
      "Babar Azam\n"
     ]
    }
   ],
   "source": [
    "class Person():\n",
    "    name = \"Vinod\"\n",
    "\n",
    "    @classmethod\n",
    "    def change_name(cls, name):\n",
    "        cls.name = name\n",
    "    \n",
    "        \n",
    "\n",
    "p1 = Person()\n",
    "p1.change_name(\"Babar Azam\")\n",
    "print(p1.name)  \n"
   ]
  }
 ],
 "metadata": {
  "kernelspec": {
   "display_name": "Python 3",
   "language": "python",
   "name": "python3"
  },
  "language_info": {
   "codemirror_mode": {
    "name": "ipython",
    "version": 3
   },
   "file_extension": ".py",
   "mimetype": "text/x-python",
   "name": "python",
   "nbconvert_exporter": "python",
   "pygments_lexer": "ipython3",
   "version": "3.12.2"
  }
 },
 "nbformat": 4,
 "nbformat_minor": 2
}
