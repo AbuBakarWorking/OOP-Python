{
 "cells": [
  {
   "cell_type": "markdown",
   "metadata": {},
   "source": [
    "# Single Inheritance Questions\n",
    "\n",
    "## Question 1: Create a parent class called Animal that has a method speak() which prints \"Animal speaks\". Then create a child class called Dog that inherits from Animal and overrides the speak() method to print \"Dog barks\". Create an instance of Dog and call the speak() method."
   ]
  },
  {
   "cell_type": "code",
   "execution_count": 2,
   "metadata": {},
   "outputs": [
    {
     "name": "stdout",
     "output_type": "stream",
     "text": [
      "\n",
      "Dog barks\n"
     ]
    }
   ],
   "source": [
    "class Animal():\n",
    "\n",
    "    def speak():\n",
    "        print(\"Animal speaks\")\n",
    "\n",
    "class Dog(Animal):\n",
    "    def speak(self):\n",
    "        print(\"\\nDog barks\")\n",
    "\n",
    "dog = Dog()\n",
    "dog.speak()"
   ]
  },
  {
   "cell_type": "markdown",
   "metadata": {},
   "source": []
  },
  {
   "cell_type": "markdown",
   "metadata": {},
   "source": [
    "## Question 2: Define a class Book with attributes title and author. Create a subclass EBook that inherits from Book and adds an attribute file_size. Use the super() method to initialize the title and author attributes in the EBook class and also a method with info."
   ]
  },
  {
   "cell_type": "code",
   "execution_count": 8,
   "metadata": {},
   "outputs": [
    {
     "name": "stdout",
     "output_type": "stream",
     "text": [
      "Title: Fluent Python: Clear, Concise Programming, \n",
      "Author: Luciano Ramalho, \n",
      "File Size: Approximately 792 pages\n"
     ]
    }
   ],
   "source": [
    "class Book():\n",
    "    def __init__(self, title, author):\n",
    "        self.title = title\n",
    "        self.author = author\n",
    "\n",
    "\n",
    "class EBook(Book):\n",
    "    def __init__(self, title, author, file_size):\n",
    "        super().__init__(title, author)\n",
    "        self.file_size = file_size\n",
    "\n",
    "    def info(self):\n",
    "        return f\"Title: {self.title}, \\nAuthor: {self.author}, \\nFile Size: {self.file_size}\"\n",
    "\n",
    "\n",
    "book = EBook(\"Fluent Python: Clear, Concise Programming\", \"Luciano Ramalho\", \"Approximately 792 pages\")\n",
    "print(book.info())  "
   ]
  },
  {
   "cell_type": "markdown",
   "metadata": {},
   "source": []
  },
  {
   "cell_type": "markdown",
   "metadata": {},
   "source": [
    "# Multiple Inheritance Questions\n",
    "\n",
    "## Create a class Parent1 with a method greet() that prints \"Good morning from Parent1\". Create another class Parent2 with a method greet() that prints \"Good evening from Parent2\". Then, create a child class Child that inherits from both Parent1 and Parent2 and overrides the greet() method to print \"Good morning from Child\". Finally, call the greet() method on an instance of Child."
   ]
  },
  {
   "cell_type": "code",
   "execution_count": 13,
   "metadata": {},
   "outputs": [
    {
     "name": "stdout",
     "output_type": "stream",
     "text": [
      "Good morning from Parent1\n",
      "\n",
      "Good Morning from Child\n"
     ]
    }
   ],
   "source": [
    "class Parent1():\n",
    "    def greet1(self):\n",
    "        print(\"Good morning from Parent1\")\n",
    "\n",
    "\n",
    "class parent2():\n",
    "    def greet2(self):\n",
    "        print(\"Good evening from Parent2\")\n",
    "\n",
    "\n",
    "class Child(Parent1, parent2):\n",
    "    def greet(self):\n",
    "        super().greet1()\n",
    "\n",
    "        print(\"\\nGood Morning from Child\")\n",
    "\n",
    "baby = Child()\n",
    "baby.greet()"
   ]
  },
  {
   "cell_type": "markdown",
   "metadata": {},
   "source": [
    "# Question 4:\n",
    "\n",
    "## Define two classes Vehicle (with a method start()) and Engine (with a method run()). Create a class Car that inherits from both Vehicle and Engine, and implement a start() method that uses super() to call the start() method from Vehicle and then prints \"Car is ready to go\". Create an instance of Car and call the start() method or can also call run method."
   ]
  },
  {
   "cell_type": "code",
   "execution_count": 25,
   "metadata": {},
   "outputs": [
    {
     "name": "stdout",
     "output_type": "stream",
     "text": [
      "\n",
      "Vehicle started\n",
      "\n",
      "Car is Ready to go\n",
      "\n",
      "Vehicle Running\n"
     ]
    }
   ],
   "source": [
    "class Vehicle:\n",
    "    def start(self):  \n",
    "        print(\"\\nVehicle started\")\n",
    "\n",
    "\n",
    "class Engine:\n",
    "    def run(self):\n",
    "        print(\"\\nVehicle Running\")\n",
    "\n",
    "\n",
    "class Car(Vehicle, Engine):\n",
    "    def ready(self): \n",
    "        super().start()  # Correctly calling the start method\n",
    "        print(\"\\nCar is Ready to go\")\n",
    "        \n",
    "        super().run()  \n",
    "\n",
    "\n",
    "# Create an instance of Car\n",
    "car1 = Car()\n",
    "car1.ready()  \n"
   ]
  },
  {
   "cell_type": "markdown",
   "metadata": {},
   "source": []
  },
  {
   "cell_type": "markdown",
   "metadata": {},
   "source": []
  },
  {
   "cell_type": "markdown",
   "metadata": {},
   "source": [
    "# Multilevel Inheritance Questions\n",
    "\n",
    "## Question 5: Create a class Person with attributes name and age. Create a subclass Employee that adds an attribute employee_id. Then create another subclass Manager that inherits from Employee and adds an attribute department. Create an instance of Manager and print all the attributes using the super() method."
   ]
  },
  {
   "cell_type": "code",
   "execution_count": 37,
   "metadata": {},
   "outputs": [
    {
     "name": "stdout",
     "output_type": "stream",
     "text": [
      "Name: Alice\n",
      "Age: 35\n",
      "Employee ID: E123\n",
      "Department: Sales\n"
     ]
    }
   ],
   "source": [
    "class Person():\n",
    "\n",
    "    def __init__(self, name, age):\n",
    "        self.name = name\n",
    "        self.age = age\n",
    "    \n",
    "\n",
    "class Employee():\n",
    "\n",
    "    def __init__(self, name, age, employee_id):\n",
    "        super().__init__(name, age)\n",
    "        self.employee_id = employee_id\n",
    "\n",
    "\n",
    "class Manager(Employee, Person):\n",
    "    def __init__(self, name, age, employee_id, department):\n",
    "        super().__init__(name, age, employee_id)\n",
    "        self.department = department\n",
    "    \n",
    "    \n",
    "manager_instance = Manager(\"John\", 35, \"E123\", \"Sales\")\n",
    "\n",
    "# Print all attributes using the super() method\n",
    "print(f\"Name: {manager_instance.name}\")\n",
    "print(f\"Age: {manager_instance.age}\")\n",
    "print(f\"Employee ID: {manager_instance.employee_id}\")\n",
    "print(f\"Department: {manager_instance.department}\")"
   ]
  },
  {
   "cell_type": "markdown",
   "metadata": {},
   "source": [
    "# Question 6:\n",
    "\n",
    "## Define a base class Shape with a method area(). Create a subclass Rectangle that overrides the area() method. Then create another subclass Square that inherits from Rectangle and overrides the area() method again. Show how the super() method can be used to access the area() method from the Rectangle class when calling area() on an instance of Square."
   ]
  },
  {
   "cell_type": "code",
   "execution_count": 56,
   "metadata": {},
   "outputs": [
    {
     "name": "stdout",
     "output_type": "stream",
     "text": [
      "The area of the square is: 16\n"
     ]
    }
   ],
   "source": [
    "class Shape():\n",
    "\n",
    "    def area(self):\n",
    "        pass\n",
    "\n",
    "class Rectangle(Shape):\n",
    "    def __init__(self, width, height):\n",
    "        self.width = width\n",
    "        self.height = height\n",
    "\n",
    "    def area(self):\n",
    "        return self.width * self.height\n",
    "        \n",
    "\n",
    "class Square(Rectangle):\n",
    "    def __init__(self, side):\n",
    "        super().__init__(side, side)\n",
    "\n",
    "    def area(self):\n",
    "        return super().area()\n",
    "    \n",
    "\n",
    "# Create an instance of Square\n",
    "square = Square(4)\n",
    "\n",
    "\n",
    "# Calculate and print the area using the area() method\n",
    "print(f\"The area of the square is: {square.area()}\")\n",
    "\n",
    "\n"
   ]
  },
  {
   "cell_type": "markdown",
   "metadata": {},
   "source": []
  },
  {
   "cell_type": "markdown",
   "metadata": {},
   "source": [
    "# Hierarchical Inheritance Questions\n",
    "\n",
    "## Question 7: Create a class Animal with a method sound(). Create two subclasses Cat and Dog that both override the sound() method to print \"Meow\" and \"Woof\", respectively. Create instances of both Cat and Dog and call their sound() methods."
   ]
  },
  {
   "cell_type": "code",
   "execution_count": 61,
   "metadata": {},
   "outputs": [
    {
     "name": "stdout",
     "output_type": "stream",
     "text": [
      "\n",
      "Meow\n",
      "\n",
      "Woof\n"
     ]
    }
   ],
   "source": [
    "class Animal():\n",
    "\n",
    "    def sound(self):\n",
    "        print(\"The animal makes a sound\")\n",
    "\n",
    "class Cat():\n",
    "\n",
    "    def sound(self):\n",
    "        print(\"\\nMeow\")\n",
    "\n",
    "class Dog():\n",
    "\n",
    "    def sound(self):\n",
    "        print(\"\\nWoof\")\n",
    "\n",
    "cat = Cat()\n",
    "dog = Dog()\n",
    "\n",
    "\n",
    "\n",
    "cat.sound()\n",
    "dog.sound()\n"
   ]
  },
  {
   "cell_type": "markdown",
   "metadata": {},
   "source": [
    "# Question 8:\n",
    "## Define a class BankAccount with a method balance(). Create two subclasses, SavingsAccount and CheckingAccount, both of which inherit from BankAccount and override the balance() method to display different messages. Use super() in one of the subclasses to call the parent class’s balance() method."
   ]
  },
  {
   "cell_type": "code",
   "execution_count": 81,
   "metadata": {},
   "outputs": [
    {
     "name": "stdout",
     "output_type": "stream",
     "text": [
      "Displaying balance for the Savings Account\n",
      "Displaying balance for the bank account (and also for the Checking Account)\n"
     ]
    }
   ],
   "source": [
    "# Base class\n",
    "class BankAccount:\n",
    "    def balance(self):\n",
    "        return \"Displaying balance for the bank account\"\n",
    "\n",
    "# Subclass SavingsAccount\n",
    "class SavingsAccount(BankAccount):\n",
    "    def balance(self):\n",
    "        return \"Displaying balance for the Savings Account\"\n",
    "\n",
    "# Subclass CheckingAccount\n",
    "class CheckingAccount(BankAccount):\n",
    "    def balance(self):\n",
    "        # Calling the parent class's balance method using super()\n",
    "        return super().balance() + \" (and also for the Checking Account)\"\n",
    "\n",
    "# Create instances of each account type\n",
    "savings_account = SavingsAccount()\n",
    "checking_account = CheckingAccount()\n",
    "\n",
    "# Call the balance() method on each account\n",
    "\n",
    "print(savings_account.balance())  \n",
    "print(checking_account.balance())  \n"
   ]
  },
  {
   "cell_type": "markdown",
   "metadata": {},
   "source": []
  },
  {
   "cell_type": "markdown",
   "metadata": {},
   "source": [
    "# Practice Scenarios Using super()\n",
    "\n",
    "## Question 9:\n",
    "## Create a class Base with an __init__() method that initializes an attribute value. Create a class Derived that inherits from Base and adds another attribute. Use super() in the Derived class to initialize the value attribute and print both attributes."
   ]
  },
  {
   "cell_type": "code",
   "execution_count": 91,
   "metadata": {},
   "outputs": [
    {
     "name": "stdout",
     "output_type": "stream",
     "text": [
      "Name: Shan\n",
      "Age: 22\n"
     ]
    }
   ],
   "source": [
    "class Base():\n",
    "    def __init__(self, name):\n",
    "        self.name = name\n",
    "\n",
    "class Derived(Base):\n",
    "    def __init__(self, name, age):\n",
    "        super().__init__(name)\n",
    "        self.age = age\n",
    "\n",
    "derived_value = Derived(\"Shan\", 22)\n",
    "print(f\"Name: {derived_value.name}\")\n",
    "print(f\"Age: {derived_value.age}\")\n"
   ]
  },
  {
   "cell_type": "markdown",
   "metadata": {},
   "source": [
    "## Question 10: \n",
    "## Design a class Base1 with a method info() that prints \"Base1 Info\". Create another class Base2 with a method info() that prints \"Base2 Info\". Then create a class Combined that inherits from both Base1 and Base2. Use super() to call the info() method from both parent classes and print their outputs."
   ]
  },
  {
   "cell_type": "code",
   "execution_count": 97,
   "metadata": {},
   "outputs": [
    {
     "name": "stdout",
     "output_type": "stream",
     "text": [
      "This is a base class with a method info()\n",
      "This is a base2 class with a method info()\n"
     ]
    }
   ],
   "source": [
    "class Base1():\n",
    "\n",
    "    def info(self):\n",
    "        print(\"This is a base class with a method info()\")\n",
    "\n",
    "class Base2():\n",
    "\n",
    "    def info(self):\n",
    "        print(\"This is a base2 class with a method info()\")\n",
    "\n",
    "\n",
    "class Combined(Base1, Base2):\n",
    "    def method(self):\n",
    "        super().info()\n",
    "        Base2.info(self)\n",
    "\n",
    "combined_class = Combined()\n",
    "combined_class.method()  # Outputs: This is a base class with a method info()\n",
    "\n"
   ]
  }
 ],
 "metadata": {
  "kernelspec": {
   "display_name": "Python 3",
   "language": "python",
   "name": "python3"
  },
  "language_info": {
   "codemirror_mode": {
    "name": "ipython",
    "version": 3
   },
   "file_extension": ".py",
   "mimetype": "text/x-python",
   "name": "python",
   "nbconvert_exporter": "python",
   "pygments_lexer": "ipython3",
   "version": "3.12.2"
  }
 },
 "nbformat": 4,
 "nbformat_minor": 2
}
