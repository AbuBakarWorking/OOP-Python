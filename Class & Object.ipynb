{
 "cells": [
  {
   "cell_type": "markdown",
   "metadata": {},
   "source": [
    "# Object-Oriented Programming (OOP) in Python\n",
    "\n",
    "## Object-Oriented Programming (OOP) is a programming paradigm that is centered around the concept of objects. In Python, OOP allows you to structure your code using classes and objects, which make it easier to organize, reuse, and scale your code. OOP helps to group data (attributes) and behavior (methods) together, which can be more intuitive when dealing with real-world scenarios like modeling a bank account, a student, or a car."
   ]
  },
  {
   "cell_type": "markdown",
   "metadata": {},
   "source": [
    "# Class & Object\n",
    "\n",
    "## What is a class?\n",
    "### A class in Python is like a blueprint for creating objects. It defines the attributes (data) and methods (functions) that the objects created from the class will have. In python a class is created by the keyword class.\n",
    "\n",
    "\n",
    "## What is an object?\n",
    "### An object is created using the constructor of the class. This object will then be called the instance of the class. In Python we create instances in the following manner\n",
    "\n",
    "### Instance = class(arguments) -->"
   ]
  },
  {
   "cell_type": "code",
   "execution_count": 1,
   "metadata": {},
   "outputs": [
    {
     "name": "stdout",
     "output_type": "stream",
     "text": [
      "Name: Laila, Age: 19, Grade: A+\n",
      "Collage Name: Bahria Collage, Student Name: Laila\n"
     ]
    }
   ],
   "source": [
    "class Student():\n",
    "    # Class attribute (shared by all instances of the class)\n",
    "    collage_name = \"Bahria Collage\"\n",
    "    name = \"Zubair\"  # class attribute (this is not used inside __init__)\n",
    "\n",
    "\n",
    "\n",
    "    # Constructor method to initialize object attributes\n",
    "    def __init__(self, name, age, grade):\n",
    "        self.name = name  # Object attribute (unique to each instance)\n",
    "        self.age = age    # Object attribute (unique to each instance)\n",
    "        self.grade = grade  # Object attribute (unique to each instance)\n",
    "\n",
    "\n",
    "\n",
    "# Creating an instance (object) of the Student class with object-specific attributes\n",
    "student1 = Student(\"Laila\", 19, \"A+\")\n",
    "\n",
    "\n",
    "# Accessing the object attributes (specific to student1) and printing them\n",
    "print(f\"Name: {student1.name}, Age: {student1.age}, Grade: {student1.grade}\")\n",
    "\n",
    "\n",
    "# Accessing class attributes (shared by all instances) using the class name\n",
    "print(f\"Collage Name: {Student.collage_name}, Student Name: {student1.name}\")\n",
    "\n",
    "\n"
   ]
  },
  {
   "cell_type": "markdown",
   "metadata": {},
   "source": [
    "### if will print student name (laila) in both cases because\n",
    "### Object attribute > class attribute"
   ]
  },
  {
   "cell_type": "markdown",
   "metadata": {},
   "source": [
    "# Constructor in Python:\n",
    "\n",
    "## In Python, the constructor method is named __init__(). It is called automatically when you create a new object from a class. You can pass arguments to the constructor to initialize object-specific values.\n",
    "\n",
    "### Example:"
   ]
  },
  {
   "cell_type": "code",
   "execution_count": 2,
   "metadata": {},
   "outputs": [
    {
     "name": "stdout",
     "output_type": "stream",
     "text": [
      "Name: Alice, Age: 25\n"
     ]
    }
   ],
   "source": [
    "\n",
    "class Person:\n",
    "    def __init__(self, name, age):\n",
    "        # This is the constructor\n",
    "        self.name = name  # Initializing object attribute 'name'\n",
    "        self.age = age    # Initializing object attribute 'age'\n",
    "\n",
    "\n",
    "# Creating an instance (object) of the Person class\n",
    "person1 = Person(\"Alice\", 25)\n",
    "\n",
    "\n",
    "# Accessing the initialized attributes\n",
    "print(f\"Name: {person1.name}, Age: {person1.age}\")\n"
   ]
  },
  {
   "cell_type": "markdown",
   "metadata": {},
   "source": [
    "## Adding methods in class"
   ]
  },
  {
   "cell_type": "code",
   "execution_count": 12,
   "metadata": {},
   "outputs": [
    {
     "name": "stdout",
     "output_type": "stream",
     "text": [
      "Welcome student Aayan to Bahria Collage\n",
      "A+\n"
     ]
    }
   ],
   "source": [
    "class Student():\n",
    "    collage_name = \"Bahria Collage\"\n",
    "    \n",
    "\n",
    "\n",
    "    def __init__(self, name, age, grade):\n",
    "        self.name = name    # object attribute  \n",
    "        self.age = age\n",
    "        self.grade = grade\n",
    "\n",
    "\n",
    "# Method 1: A function that welcomes the student\n",
    "    def welcome(self): \n",
    "        # This method returns the grade of the student\n",
    "        print(f\"Welcome student {self.name} to {self.collage_name}\")\n",
    "\n",
    "\n",
    "# Method 2: A function to return the student's grade\n",
    "    def get_grade(self):\n",
    "        return self.grade\n",
    "    \n",
    "    \n",
    "    \n",
    "# Creating an instance (object) of the Student class\n",
    "s1 = Student(\"Aayan\", 19, \"A+\")\n",
    "\n",
    "s1.welcome()  # Output: Welcome student Aayan to Bahria Collage\n",
    "\n",
    "print(s1.get_grade())  # Output: A+\n",
    "\n",
    "\n"
   ]
  },
  {
   "cell_type": "markdown",
   "metadata": {},
   "source": [
    "# Let's Practice\n",
    "\n",
    "## Create a student class that takes name & marks of 3 subjects as arguments in the constructor. Then create a method to print the average. The class should also have a method to check if the student is passing or not. The student is passing if the average of marks is greater than or equal to 40."
   ]
  },
  {
   "cell_type": "code",
   "execution_count": 29,
   "metadata": {},
   "outputs": [
    {
     "name": "stdout",
     "output_type": "stream",
     "text": [
      "Student name::Sohail, Math::60,Physics::79,English::86\n",
      "\n",
      "Average::75.0,Pass/Fail::Pass\n"
     ]
    }
   ],
   "source": [
    "class Student():\n",
    "    def __init__(self, name, math: int, physics: int, english: int):\n",
    "        self.name = name\n",
    "        self.math = math\n",
    "        self.physics = physics\n",
    "        self.english = english\n",
    "\n",
    "    def average(self):\n",
    "            return (self.math + self.physics + self.english) / 3\n",
    "\n",
    "\n",
    "    def pass_fail(self):\n",
    "        if self.average() >= 70:\n",
    "            return \"Pass\"\n",
    "        else:\n",
    "            return \"Fail\"\n",
    "        \n",
    "\n",
    "std1 = Student(\"Sohail\", 60,79,86)\n",
    "\n",
    "print(f\"Student name::{std1.name}, Math::{std1.math},Physics::{std1.physics},English::{std1.english}\")\n",
    "\n",
    "print(f\"\\nAverage::{std1.average()},Pass/Fail::{std1.pass_fail()}\")\n",
    "\n",
    "\n",
    "\n",
    "        "
   ]
  },
  {
   "cell_type": "markdown",
   "metadata": {},
   "source": [
    "# Static Method \n",
    "\n",
    "## A static method in Python is a method defined within a class that doesn’t require access to the instance (object) or class itself. It behaves like a regular function but belongs to the class’s namespace. You can call it on the class itself or on instances of the class, and it doesn’t take self or cls as its first parameter."
   ]
  },
  {
   "cell_type": "markdown",
   "metadata": {},
   "source": [
    "### Incorrect use of static method in your case:"
   ]
  },
  {
   "cell_type": "code",
   "execution_count": 30,
   "metadata": {},
   "outputs": [
    {
     "ename": "NameError",
     "evalue": "name 'self' is not defined",
     "output_type": "error",
     "traceback": [
      "\u001b[1;31m---------------------------------------------------------------------------\u001b[0m",
      "\u001b[1;31mNameError\u001b[0m                                 Traceback (most recent call last)",
      "Cell \u001b[1;32mIn[30], line 21\u001b[0m\n\u001b[0;32m     17\u001b[0m             \u001b[38;5;28;01mreturn\u001b[39;00m \u001b[38;5;124m\"\u001b[39m\u001b[38;5;124mFail\u001b[39m\u001b[38;5;124m\"\u001b[39m\n\u001b[0;32m     20\u001b[0m std1 \u001b[38;5;241m=\u001b[39m Student(\u001b[38;5;124m\"\u001b[39m\u001b[38;5;124mSohail\u001b[39m\u001b[38;5;124m\"\u001b[39m, \u001b[38;5;241m60\u001b[39m, \u001b[38;5;241m79\u001b[39m, \u001b[38;5;241m86\u001b[39m)\n\u001b[1;32m---> 21\u001b[0m \u001b[38;5;28mprint\u001b[39m(\u001b[38;5;124mf\u001b[39m\u001b[38;5;124m\"\u001b[39m\u001b[38;5;124mAverage::\u001b[39m\u001b[38;5;132;01m{\u001b[39;00m\u001b[43mstd1\u001b[49m\u001b[38;5;241;43m.\u001b[39;49m\u001b[43maverage\u001b[49m\u001b[43m(\u001b[49m\u001b[43m)\u001b[49m\u001b[38;5;132;01m}\u001b[39;00m\u001b[38;5;124m\"\u001b[39m)\n",
      "Cell \u001b[1;32mIn[30], line 11\u001b[0m, in \u001b[0;36mStudent.average\u001b[1;34m()\u001b[0m\n\u001b[0;32m      8\u001b[0m \u001b[38;5;129m@staticmethod\u001b[39m\n\u001b[0;32m      9\u001b[0m \u001b[38;5;28;01mdef\u001b[39;00m \u001b[38;5;21maverage\u001b[39m():\n\u001b[0;32m     10\u001b[0m     \u001b[38;5;66;03m# This will raise an error because static methods can't access self.math, self.physics, etc.\u001b[39;00m\n\u001b[1;32m---> 11\u001b[0m     \u001b[38;5;28;01mreturn\u001b[39;00m (\u001b[38;5;28;43mself\u001b[39;49m\u001b[38;5;241m.\u001b[39mmath \u001b[38;5;241m+\u001b[39m \u001b[38;5;28mself\u001b[39m\u001b[38;5;241m.\u001b[39mphysics \u001b[38;5;241m+\u001b[39m \u001b[38;5;28mself\u001b[39m\u001b[38;5;241m.\u001b[39menglish) \u001b[38;5;241m/\u001b[39m \u001b[38;5;241m3\u001b[39m\n",
      "\u001b[1;31mNameError\u001b[0m: name 'self' is not defined"
     ]
    }
   ],
   "source": [
    "class Student():\n",
    "    def __init__(self, name, math: int, physics: int, english: int):\n",
    "        self.name = name\n",
    "        self.math = math\n",
    "        self.physics = physics\n",
    "        self.english = english\n",
    "\n",
    "    @staticmethod\n",
    "    def average():\n",
    "        # This will raise an error because static methods can't access self.math, self.physics, etc.\n",
    "        return (self.math + self.physics + self.english) / 3\n",
    "\n",
    "    def pass_fail(self):\n",
    "        if self.average() >= 70:\n",
    "            return \"Pass\"\n",
    "        else:\n",
    "            return \"Fail\"\n",
    "\n",
    "\n",
    "std1 = Student(\"Sohail\", 60, 79, 86)\n",
    "print(f\"Average::{std1.average()}\")\n"
   ]
  },
  {
   "cell_type": "markdown",
   "metadata": {},
   "source": [
    "## Correct use of Static Method"
   ]
  },
  {
   "cell_type": "code",
   "execution_count": 31,
   "metadata": {},
   "outputs": [
    {
     "name": "stdout",
     "output_type": "stream",
     "text": [
      "Student name::Sohail, Average::75.0, Pass/Fail::Pass\n"
     ]
    }
   ],
   "source": [
    "class Student():\n",
    "    def __init__(self, name, math: int, physics: int, english: int):\n",
    "        self.name = name\n",
    "        self.math = math\n",
    "        self.physics = physics\n",
    "        self.english = english\n",
    "\n",
    "    @staticmethod\n",
    "    def average(math, physics, english):\n",
    "        return (math + physics + english) / 3\n",
    "\n",
    "    def pass_fail(self):\n",
    "        if self.average(self.math, self.physics, self.english) >= 70:\n",
    "            return \"Pass\"\n",
    "        else:\n",
    "            return \"Fail\"\n",
    "\n",
    "\n",
    "std1 = Student(\"Sohail\", 60, 79, 86)\n",
    "print(f\"Student name::{std1.name}, Average::{std1.average(std1.math, std1.physics, std1.english)}, Pass/Fail::{std1.pass_fail()}\")\n"
   ]
  },
  {
   "cell_type": "code",
   "execution_count": 4,
   "metadata": {},
   "outputs": [
    {
     "name": "stdout",
     "output_type": "stream",
     "text": [
      "False\n"
     ]
    }
   ],
   "source": [
    "\n",
    "\n",
    "\n",
    "    "
   ]
  }
 ],
 "metadata": {
  "kernelspec": {
   "display_name": "Python 3",
   "language": "python",
   "name": "python3"
  },
  "language_info": {
   "codemirror_mode": {
    "name": "ipython",
    "version": 3
   },
   "file_extension": ".py",
   "mimetype": "text/x-python",
   "name": "python",
   "nbconvert_exporter": "python",
   "pygments_lexer": "ipython3",
   "version": "3.12.2"
  }
 },
 "nbformat": 4,
 "nbformat_minor": 2
}
